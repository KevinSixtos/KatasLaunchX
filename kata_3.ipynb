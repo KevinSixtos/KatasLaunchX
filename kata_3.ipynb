{
 "cells": [
  {
   "cell_type": "markdown",
   "metadata": {},
   "source": [
    "EJERCICIO #1"
   ]
  },
  {
   "cell_type": "code",
   "execution_count": 1,
   "metadata": {},
   "outputs": [
    {
     "name": "stdout",
     "output_type": "stream",
     "text": [
      "¡PELIGRO!, meteorito cercano...\n"
     ]
    }
   ],
   "source": [
    "meteorito = 49\n",
    "if meteorito >30:\n",
    "    print('¡PELIGRO!, meteorito cercano...')\n",
    "else:\n",
    "    print('Feliz dia por seguir vivo')"
   ]
  },
  {
   "cell_type": "markdown",
   "metadata": {},
   "source": [
    "EJERCICIO #2"
   ]
  },
  {
   "cell_type": "code",
   "execution_count": 2,
   "metadata": {},
   "outputs": [
    {
     "name": "stdout",
     "output_type": "stream",
     "text": [
      "¡Sigue tu camino!\n"
     ]
    }
   ],
   "source": [
    "asteroide = 19\n",
    "if asteroide > 20:\n",
    "    print('¡EN EL CIELO, HAY UNA LUZ MÁGICA!')\n",
    "elif asteroide == 20 :\n",
    "    print('¡EN EL CIELO, HAY UNA LUZ MÁGICA!')\n",
    "else:\n",
    "    print('¡Sigue tu camino!')"
   ]
  },
  {
   "cell_type": "markdown",
   "metadata": {},
   "source": [
    "EJERCICIO #3"
   ]
  },
  {
   "cell_type": "code",
   "execution_count": 4,
   "metadata": {},
   "outputs": [
    {
     "name": "stdout",
     "output_type": "stream",
     "text": [
      "¡ASTEROIDE A LA VISTA...!\n"
     ]
    }
   ],
   "source": [
    "velocidad=25\n",
    "tamano=40\n",
    "if velocidad >10 or tamano==40:\n",
    "    print('¡ASTEROIDE A LA VISTA...!')\n",
    "elif velocidad >=32:\n",
    "    print('¡UNA AURORA BOREAL...!')\n",
    "elif tamano<20:\n",
    "    print('¡salut!') "
   ]
  }
 ],
 "metadata": {
  "interpreter": {
   "hash": "ed0c1f2851d0b0f23e8bb211de96670b10679914f6ce8f05e7cf543642a2d018"
  },
  "kernelspec": {
   "display_name": "Python 3.10.2 64-bit (windows store)",
   "language": "python",
   "name": "python3"
  },
  "language_info": {
   "codemirror_mode": {
    "name": "ipython",
    "version": 3
   },
   "file_extension": ".py",
   "mimetype": "text/x-python",
   "name": "python",
   "nbconvert_exporter": "python",
   "pygments_lexer": "ipython3",
   "version": "3.10.2"
  },
  "orig_nbformat": 4
 },
 "nbformat": 4,
 "nbformat_minor": 2
}
